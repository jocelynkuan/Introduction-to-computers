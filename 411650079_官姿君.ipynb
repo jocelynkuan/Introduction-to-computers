{
  "nbformat": 4,
  "nbformat_minor": 0,
  "metadata": {
    "colab": {
      "provenance": [],
      "authorship_tag": "ABX9TyMXRXPYpDpLeBzR+3slqBz6",
      "include_colab_link": true
    },
    "kernelspec": {
      "name": "python3",
      "display_name": "Python 3"
    },
    "language_info": {
      "name": "python"
    }
  },
  "cells": [
    {
      "cell_type": "markdown",
      "metadata": {
        "id": "view-in-github",
        "colab_type": "text"
      },
      "source": [
        "<a href=\"https://colab.research.google.com/github/jocelynkuan/Introduction-to-computers/blob/main/411650079_%E5%AE%98%E5%A7%BF%E5%90%9B.ipynb\" target=\"_parent\"><img src=\"https://colab.research.google.com/assets/colab-badge.svg\" alt=\"Open In Colab\"/></a>"
      ]
    },
    {
      "cell_type": "markdown",
      "source": [
        "1.print文字"
      ],
      "metadata": {
        "id": "BWOSoQY2vncS"
      }
    },
    {
      "cell_type": "code",
      "source": [
        "a=input()\n",
        "print(a)"
      ],
      "metadata": {
        "colab": {
          "base_uri": "https://localhost:8080/"
        },
        "id": "XJHg9tI3vy50",
        "outputId": "e962eb30-2075-492a-b437-30d0f4c9643d"
      },
      "execution_count": 3,
      "outputs": [
        {
          "output_type": "stream",
          "name": "stdout",
          "text": [
            "you\n",
            "you\n"
          ]
        }
      ]
    },
    {
      "cell_type": "markdown",
      "source": [
        "2.取得字串長度"
      ],
      "metadata": {
        "id": "2LEPQy5iwOUL"
      }
    },
    {
      "cell_type": "code",
      "source": [
        "a=input()\n",
        "print(len(a))"
      ],
      "metadata": {
        "colab": {
          "base_uri": "https://localhost:8080/"
        },
        "id": "X3FQpRvBwY4Z",
        "outputId": "b133a6c2-792a-4d4c-b7da-64a50d69eb93"
      },
      "execution_count": 5,
      "outputs": [
        {
          "output_type": "stream",
          "name": "stdout",
          "text": [
            "apple\n",
            "5\n"
          ]
        }
      ]
    },
    {
      "cell_type": "markdown",
      "source": [
        "3.bmi計算"
      ],
      "metadata": {
        "id": "LBE1IvUzwzob"
      }
    },
    {
      "cell_type": "code",
      "source": [
        "h,w=input().split()\n",
        "new_h=int(h)/100\n",
        "new_w=int(w)\n",
        "bmi=new_w/new_h**2\n",
        "print('%.2f'%bmi)"
      ],
      "metadata": {
        "colab": {
          "base_uri": "https://localhost:8080/"
        },
        "id": "eQfx9klgw9n7",
        "outputId": "845c66e5-3ca3-4195-b0ab-d6312d01c8d9"
      },
      "execution_count": 8,
      "outputs": [
        {
          "output_type": "stream",
          "name": "stdout",
          "text": [
            "160 49\n",
            "19.14\n"
          ]
        }
      ]
    },
    {
      "cell_type": "markdown",
      "source": [
        "4.給定正整數n，求10到n的所有正整數和"
      ],
      "metadata": {
        "id": "YWJ5c3Wrx95t"
      }
    },
    {
      "cell_type": "code",
      "source": [
        "n=int(input())\n",
        "total=0\n",
        "for i in range(10,n+1,1):\n",
        "  total+=i\n",
        "print(total)"
      ],
      "metadata": {
        "colab": {
          "base_uri": "https://localhost:8080/"
        },
        "id": "911zChJWyn0u",
        "outputId": "ab6c8aa5-549c-463b-d95f-419d890f2d83"
      },
      "execution_count": 10,
      "outputs": [
        {
          "output_type": "stream",
          "name": "stdout",
          "text": [
            "11\n",
            "21\n"
          ]
        }
      ]
    }
  ]
}