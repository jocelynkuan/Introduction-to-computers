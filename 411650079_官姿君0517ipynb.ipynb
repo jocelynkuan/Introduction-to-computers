{
  "nbformat": 4,
  "nbformat_minor": 0,
  "metadata": {
    "colab": {
      "provenance": [],
      "authorship_tag": "ABX9TyPPe9OF4gdeLQVd/GARxjoA",
      "include_colab_link": true
    },
    "kernelspec": {
      "name": "python3",
      "display_name": "Python 3"
    },
    "language_info": {
      "name": "python"
    }
  },
  "cells": [
    {
      "cell_type": "markdown",
      "metadata": {
        "id": "view-in-github",
        "colab_type": "text"
      },
      "source": [
        "<a href=\"https://colab.research.google.com/github/jocelynkuan/Introduction-to-computers/blob/main/411650079_%E5%AE%98%E5%A7%BF%E5%90%9B0517ipynb.ipynb\" target=\"_parent\"><img src=\"https://colab.research.google.com/assets/colab-badge.svg\" alt=\"Open In Colab\"/></a>"
      ]
    },
    {
      "cell_type": "code",
      "execution_count": 1,
      "metadata": {
        "colab": {
          "base_uri": "https://localhost:8080/"
        },
        "id": "-6hJhQD1EfVO",
        "outputId": "ea2e5c39-bdb6-43b7-8d7c-ee920a43412c"
      },
      "outputs": [
        {
          "output_type": "stream",
          "name": "stdout",
          "text": [
            "score: 76\n",
            "Grade is: C\n"
          ]
        }
      ],
      "source": [
        "score = int(input(\"score: \"))\n",
        "if score >= 90:\n",
        "    print('Grade is: A')\n",
        "elif score >= 80:\n",
        "    print('Grade is: B')\n",
        "elif score >= 70:\n",
        "    print('Grade is: C')\n",
        "elif score >= 60:\n",
        "    print('Grade is: D')\n",
        "else:\n",
        "    print('Grade is: F')"
      ]
    },
    {
      "cell_type": "code",
      "source": [
        "a=int(input('請輸入體溫'))\n",
        "if a>=37.5:\n",
        "  print('體溫過高')\n",
        "elif 37<=a<=37.4:\n",
        "  print('體溫略高')\n",
        "elif 34<=a<=36.9:\n",
        "  print('體溫正常')\n",
        "else:\n",
        "  print('體溫異常，請重新量測')"
      ],
      "metadata": {
        "colab": {
          "base_uri": "https://localhost:8080/"
        },
        "id": "5rkdolBGFWLi",
        "outputId": "07d1bb23-5f99-4906-b99a-3526e1fa31e4"
      },
      "execution_count": 4,
      "outputs": [
        {
          "output_type": "stream",
          "name": "stdout",
          "text": [
            "請輸入體溫38\n",
            "體溫過高\n"
          ]
        }
      ]
    },
    {
      "cell_type": "code",
      "source": [
        "a=int(input('請輸入月份'))\n",
        "if 1<=a<=12:\n",
        "  if 3<=a<=5:\n",
        "    print(a,'月是春天!')\n",
        "  elif 6<=a<=8:\n",
        "    print(a,'月是夏天!')\n",
        "  elif 9<=a<=11:\n",
        "    print(a,'月是秋天!')\n",
        "  else:\n",
        "    print(a,'月是冬天')\n",
        "else:\n",
        "  print('月份不再範圍內')"
      ],
      "metadata": {
        "colab": {
          "base_uri": "https://localhost:8080/"
        },
        "id": "9bocluKAFWbR",
        "outputId": "877a6454-a1c0-4ecb-e946-97e7dc31dbe9"
      },
      "execution_count": 11,
      "outputs": [
        {
          "output_type": "stream",
          "name": "stdout",
          "text": [
            "請輸入月份6\n",
            "6 月是夏天!\n"
          ]
        }
      ]
    },
    {
      "cell_type": "code",
      "source": [
        "a=int(input('請輸入今年收入淨額'))\n",
        "if a>=300000:\n",
        "  if a>=2000000:\n",
        "    print('付稅金額:',a*0.3,'元')\n",
        "  elif a>=1000000:\n",
        "    print('付稅金額:',a*0.21,'元')\n",
        "  elif a>=600000:\n",
        "    print('付稅金額:',a*0.13,'元')\n",
        "  else:\n",
        "    print('付稅金額:',a*0.06,'元')\n",
        "else:\n",
        "  print('付稅金額:0元')"
      ],
      "metadata": {
        "colab": {
          "base_uri": "https://localhost:8080/"
        },
        "id": "vkWeOXBRJWKj",
        "outputId": "9a0669db-54ae-4695-e761-c20d269029f0"
      },
      "execution_count": 15,
      "outputs": [
        {
          "output_type": "stream",
          "name": "stdout",
          "text": [
            "請輸入今年收入淨額600000\n",
            "付稅金額: 78000.0 元\n"
          ]
        }
      ]
    },
    {
      "cell_type": "code",
      "source": [
        "score = int(input(\"請輸入成績: \"))\n",
        "if score >= 90:\n",
        "    print('A')\n",
        "elif score >= 80:\n",
        "    print('B')\n",
        "elif score >= 70:\n",
        "    print('C')\n",
        "elif score >= 60:\n",
        "    print('D')\n",
        "else:\n",
        "    print('E')"
      ],
      "metadata": {
        "colab": {
          "base_uri": "https://localhost:8080/"
        },
        "id": "bOLt2kcTL3tw",
        "outputId": "396c5fe0-9b9c-46f4-f344-6f1be0a945ad"
      },
      "execution_count": 17,
      "outputs": [
        {
          "output_type": "stream",
          "name": "stdout",
          "text": [
            "請輸入成績: 45\n",
            "E\n"
          ]
        }
      ]
    },
    {
      "cell_type": "code",
      "source": [
        "rain=input('今天會下雨嗎?(輸入N or Y)')\n",
        "if rain=='Y' or rain=='y' or rain=='N' or rain=='n':\n",
        "  if rain=='Y' or rain=='y':\n",
        "    print('出門記得帶傘')\n",
        "  else:\n",
        "    print('不用帶傘')\n",
        "else:\n",
        "  print('輸入錯誤')"
      ],
      "metadata": {
        "colab": {
          "base_uri": "https://localhost:8080/"
        },
        "id": "bim6ksWASjuN",
        "outputId": "139cd800-821d-4312-e010-0b3272e376d5"
      },
      "execution_count": 29,
      "outputs": [
        {
          "output_type": "stream",
          "name": "stdout",
          "text": [
            "今天會下雨嗎?(輸入N or Y)n\n",
            "不用帶傘\n"
          ]
        }
      ]
    }
  ]
}