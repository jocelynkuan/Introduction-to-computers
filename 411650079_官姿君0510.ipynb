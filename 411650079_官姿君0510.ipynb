{
  "nbformat": 4,
  "nbformat_minor": 0,
  "metadata": {
    "colab": {
      "provenance": [],
      "authorship_tag": "ABX9TyOeLWrgjHfZatUuwcoojAV6",
      "include_colab_link": true
    },
    "kernelspec": {
      "name": "python3",
      "display_name": "Python 3"
    },
    "language_info": {
      "name": "python"
    }
  },
  "cells": [
    {
      "cell_type": "markdown",
      "metadata": {
        "id": "view-in-github",
        "colab_type": "text"
      },
      "source": [
        "<a href=\"https://colab.research.google.com/github/jocelynkuan/Introduction-to-computers/blob/main/411650079_%E5%AE%98%E5%A7%BF%E5%90%9B0510.ipynb\" target=\"_parent\"><img src=\"https://colab.research.google.com/assets/colab-badge.svg\" alt=\"Open In Colab\"/></a>"
      ]
    },
    {
      "cell_type": "code",
      "execution_count": 12,
      "metadata": {
        "colab": {
          "base_uri": "https://localhost:8080/"
        },
        "id": "3XGoU5vhKZA_",
        "outputId": "f4715704-44f3-4999-d505-5312440208ae"
      },
      "outputs": [
        {
          "name": "stdout",
          "output_type": "stream",
          "text": [
            "請輸入密碼45\n"
          ]
        }
      ],
      "source": [
        "password=int(input('請輸入密碼'))\n",
        "if password==1234:\n",
        "  print('歡迎光臨!')"
      ]
    },
    {
      "cell_type": "code",
      "source": [
        "password=int(input('請輸入密碼'))\n",
        "if password==1234:\n",
        "  print('密碼正確!')\n",
        "else:\n",
        "  print('密碼錯誤')"
      ],
      "metadata": {
        "colab": {
          "base_uri": "https://localhost:8080/"
        },
        "id": "eg1wQg-NMRYX",
        "outputId": "40755c3c-42a7-4883-905d-fd5b942a68c5"
      },
      "execution_count": 8,
      "outputs": [
        {
          "output_type": "stream",
          "name": "stdout",
          "text": [
            "請輸入密碼23\n",
            "密碼錯誤\n"
          ]
        }
      ]
    },
    {
      "cell_type": "code",
      "source": [
        "rain=input('今天會下雨嗎?(輸入y or Y)')\n",
        "if(rain=='Y' or rain==\"y\"):\n",
        "  if(rain=='Y'):\n",
        "    print('不用帶傘')\n",
        "  else:\n",
        "    print('出門記得帶傘')\n",
        "else:\n",
        "  print('輸入錯誤')"
      ],
      "metadata": {
        "colab": {
          "base_uri": "https://localhost:8080/"
        },
        "id": "Hii92QbFNWwR",
        "outputId": "438a67ae-ec29-4cf5-e7e0-8b3c42087c24"
      },
      "execution_count": 18,
      "outputs": [
        {
          "output_type": "stream",
          "name": "stdout",
          "text": [
            "今天會下雨嗎?(輸入y or Y)y\n",
            "出門記得帶傘\n"
          ]
        }
      ]
    },
    {
      "cell_type": "code",
      "source": [
        "a=int(input('請輸入正整數'))\n",
        "if a%2==0:\n",
        "  print(a,'為偶數')\n",
        "else:\n",
        "  print(a,'為奇數')"
      ],
      "metadata": {
        "colab": {
          "base_uri": "https://localhost:8080/"
        },
        "id": "6Hrp6sSjOk1b",
        "outputId": "392e82a5-c6e9-470b-a46e-1be667ebd683"
      },
      "execution_count": 14,
      "outputs": [
        {
          "output_type": "stream",
          "name": "stdout",
          "text": [
            "請輸入正整數5\n",
            "5 為奇數\n"
          ]
        }
      ]
    }
  ]
}